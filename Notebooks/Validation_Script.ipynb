{
 "cells": [
  {
   "cell_type": "markdown",
   "id": "156dd547",
   "metadata": {},
   "source": [
    "# Error Calculating with MAPE"
   ]
  },
  {
   "cell_type": "code",
   "execution_count": 4,
   "id": "cf4e7310",
   "metadata": {},
   "outputs": [
    {
     "name": "stdout",
     "output_type": "stream",
     "text": [
      "1881072\n",
      "            Region     Error\n",
      "0        As-Sweida  0.878927\n",
      "1         Quneitra  0.538611\n",
      "2          Tartous  0.665611\n",
      "3         Lattakia  1.777779\n",
      "4      Deir-ez-Zor  6.499107\n",
      "5       Al-Hasakeh  3.580782\n",
      "6             Hama  0.783366\n",
      "7         Damascus  0.996480\n",
      "8             Homs  0.768681\n",
      "9         Ar-Raqqa  1.160359\n",
      "10           Dar'a  0.331211\n",
      "11           Idleb  0.611806\n",
      "12  Rural Damascus  0.888282\n",
      "13          Aleppo  0.665593\n"
     ]
    },
    {
     "data": {
      "text/plain": [
       "143.90425606060572"
      ]
     },
     "execution_count": 4,
     "metadata": {},
     "output_type": "execute_result"
    }
   ],
   "source": [
    "import pandas as pd\n",
    "# Actual data \n",
    "df_actual = pd.read_csv('data/idp_pop_01_2017.csv')\n",
    "# calculate sum of all IDPs\n",
    "sum_IDPs_actual = df_actual['IDPs'].sum()\n",
    "# Add new column percentage: Number of IDPs / sum of all IDPs * 100\n",
    "df_actual['percentage'] = df_actual['IDPs']/sum_IDPs_actual * 100\n",
    "\n",
    "#-------------------------------------------------------------------------\n",
    "\n",
    "# Predicted data\n",
    "df_predicted = pd.read_csv('data/syria/calibration_experiments/SyrRefPopadm3.12.8.1.csv')\n",
    "#calculate sum of all RefPop\n",
    "sum_IDPs_predicted = df_predicted['RefPop'].sum()\n",
    "# Add new column percentage: Number of Refpop/ sum of all RefPop * 100\n",
    "df_predicted['percentage'] = df_predicted['RefPop'] / sum_IDPs_predicted * 100\n",
    "print(sum_IDPs_predicted)\n",
    "\n",
    "#----------------------------------------------------------------------------\n",
    "# Error for each province\n",
    "# new dataframe: column1 = Region, column 2 = Error calculated by: |(PredictedDataPercentage - ActualDataPercentage)/ActualDataPercentage|\n",
    "# Merge the DataFrames on the 'region' column\n",
    "merged_actual_predicted = pd.merge(df_actual, df_predicted, on='Region', suffixes=('_actual', '_predicted'))\n",
    "\n",
    "# Calculate the 'error' column by subtracting 'percentage_df2' from 'percentage_df1'\n",
    "merged_actual_predicted['Error'] = abs((merged_actual_predicted['percentage_predicted'] - merged_actual_predicted['percentage_actual'])/merged_actual_predicted['percentage_actual'])\n",
    "\n",
    "# Create the final DataFrame with 'region' and 'error' columns\n",
    "error_df = merged_actual_predicted[['Region', 'Error']]\n",
    "print(error_df)\n",
    "#--------------------------------------------------------------------------------\n",
    "# Error across all districts = MEAN ABSOLUTE ERROR (MAPE)\n",
    "# calculate number of districts in error data frame = number of rows\n",
    "num_districts = len(error_df)\n",
    "# error = sum of error of all districts / number of districts\n",
    "sum_error = error_df['Error'].sum()\n",
    "error_across_districts = sum_error / num_districts * 100\n",
    "error_across_districts\n"
   ]
  }
 ],
 "metadata": {
  "kernelspec": {
   "display_name": "Python 3 (ipykernel)",
   "language": "python",
   "name": "python3"
  },
  "language_info": {
   "codemirror_mode": {
    "name": "ipython",
    "version": 3
   },
   "file_extension": ".py",
   "mimetype": "text/x-python",
   "name": "python",
   "nbconvert_exporter": "python",
   "pygments_lexer": "ipython3",
   "version": "3.9.5"
  }
 },
 "nbformat": 4,
 "nbformat_minor": 5
}
